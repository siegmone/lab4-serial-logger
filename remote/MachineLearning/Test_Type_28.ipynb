{
 "cells": [
  {
   "cell_type": "markdown",
   "metadata": {},
   "source": [
    "# PROVA 28\n",
    "\n",
    "L'obiettivo della prova e' di compilare ed eseguire il seguente Jupyter Python notebook. \n",
    "\n",
    "Ti verra' richiesto di completare delle celle inserendo alcune linee di codice necessarie per eseguire il codice. \n",
    "\n",
    "Per eseguire il codice all'interno di una cella porta il cursore del mouse all'interno di essa, clicca col tasto sinistro (il bordo della cella si evidenziera' in verde) e premi il tasto Run (lo trovi in alto a sinistra nel notebook) o piu' semplicemente l'equivalente Alt + Enter sulla tastiera. \n",
    "\n",
    "Ricorda di salvare il notebook con il comando Save in alto a sinistra una volta eseguite tutte le celle.\n"
   ]
  },
  {
   "cell_type": "code",
   "execution_count": 1,
   "metadata": {
    "colab": {
     "base_uri": "https://localhost:8080/",
     "height": 51
    },
    "colab_type": "code",
    "executionInfo": {
     "elapsed": 1886,
     "status": "ok",
     "timestamp": 1569415373373,
     "user": {
      "displayName": "Jaia Bozzigno",
      "photoUrl": "",
      "userId": "10377034041083083026"
     },
     "user_tz": -60
    },
    "id": "EINMFuCW6kb_",
    "outputId": "8ba5ec8f-abb3-4b8c-caad-86045321ecd0"
   },
   "outputs": [
    {
     "data": {
      "text/plain": [
       "'2.12.0'"
      ]
     },
     "execution_count": 1,
     "metadata": {},
     "output_type": "execute_result"
    }
   ],
   "source": [
    "import keras\n",
    "keras.__version__"
   ]
  },
  {
   "cell_type": "markdown",
   "metadata": {
    "colab_type": "text",
    "id": "A6LXeNxF6kcD"
   },
   "source": [
    "# MNIST dataset import \n",
    "\n",
    "Esegui la cella seguente per importare il dataset MNIST usato durante le esecitazioni. Ti ricordo che MNIST e' costituito da un set di 60,000 immagini per il training and 10,000 immagini per il test. Le immagini hanno 28x28 pixel e rappresentano cifre scritte a mano.\n"
   ]
  },
  {
   "cell_type": "code",
   "execution_count": 2,
   "metadata": {
    "colab": {
     "base_uri": "https://localhost:8080/",
     "height": 51
    },
    "colab_type": "code",
    "executionInfo": {
     "elapsed": 1794,
     "status": "ok",
     "timestamp": 1569415556247,
     "user": {
      "displayName": "Jaia Bozzigno",
      "photoUrl": "",
      "userId": "10377034041083083026"
     },
     "user_tz": -60
    },
    "id": "Pj7pbWIZ6kcE",
    "outputId": "a3456f0b-d4cb-49d5-ba26-30e8bb6f3582"
   },
   "outputs": [],
   "source": [
    "from keras.datasets import mnist\n",
    "from keras.utils import to_categorical\n",
    "\n",
    "\n",
    "(train_images, train_labels), (test_images, test_labels) = mnist.load_data()\n",
    "\n",
    "train_images = train_images.reshape((60000, 28 * 28))\n",
    "train_images = train_images.astype('float32') / 255\n",
    "\n",
    "test_images = test_images.reshape((10000, 28 * 28))\n",
    "test_images = test_images.astype('float32') / 255\n",
    "\n",
    "train_labels = to_categorical(train_labels)\n",
    "test_labels = to_categorical(test_labels)"
   ]
  },
  {
   "cell_type": "markdown",
   "metadata": {
    "colab_type": "text",
    "id": "t2wjhg6j6kcG"
   },
   "source": [
    "Ti ricordo che `train_images` e `train_labels` formano il \"training set\", gli esempi dai cui il modello imparera'. Il modello sara' poi testato sul \"test set\", formato da `test_images` and `test_labels`. Le immagini del training e del test set sono contenute in una matrice di dimension Numero_immagini x Numero_totale_pixel, e i label sono contenuti in un vettore di elementi che prendono valori da 0 to 9. \n",
    "\n",
    "Esegui le celle seguenti per verificare che i dati sono stati importati correttamente. "
   ]
  },
  {
   "cell_type": "code",
   "execution_count": 3,
   "metadata": {
    "colab": {
     "base_uri": "https://localhost:8080/",
     "height": 34
    },
    "colab_type": "code",
    "executionInfo": {
     "elapsed": 505,
     "status": "ok",
     "timestamp": 1569415588013,
     "user": {
      "displayName": "Jaia Bozzigno",
      "photoUrl": "",
      "userId": "10377034041083083026"
     },
     "user_tz": -60
    },
    "id": "XXpdBD2U6kcG",
    "outputId": "f832b906-700f-4a3e-e947-1626b5c2995d"
   },
   "outputs": [
    {
     "data": {
      "text/plain": [
       "(60000, 784)"
      ]
     },
     "execution_count": 3,
     "metadata": {},
     "output_type": "execute_result"
    }
   ],
   "source": [
    "train_images.shape"
   ]
  },
  {
   "cell_type": "code",
   "execution_count": 4,
   "metadata": {
    "colab": {
     "base_uri": "https://localhost:8080/",
     "height": 34
    },
    "colab_type": "code",
    "executionInfo": {
     "elapsed": 520,
     "status": "ok",
     "timestamp": 1569415594496,
     "user": {
      "displayName": "Jaia Bozzigno",
      "photoUrl": "",
      "userId": "10377034041083083026"
     },
     "user_tz": -60
    },
    "id": "rQ4XlQB56kcI",
    "outputId": "0e3ee31a-bd39-4aed-ab4e-c4707148a928"
   },
   "outputs": [
    {
     "data": {
      "text/plain": [
       "60000"
      ]
     },
     "execution_count": 4,
     "metadata": {},
     "output_type": "execute_result"
    }
   ],
   "source": [
    "len(train_labels)"
   ]
  },
  {
   "cell_type": "code",
   "execution_count": 5,
   "metadata": {
    "colab": {
     "base_uri": "https://localhost:8080/",
     "height": 34
    },
    "colab_type": "code",
    "executionInfo": {
     "elapsed": 508,
     "status": "ok",
     "timestamp": 1569415635961,
     "user": {
      "displayName": "Jaia Bozzigno",
      "photoUrl": "",
      "userId": "10377034041083083026"
     },
     "user_tz": -60
    },
    "id": "PVy18haT6kcL",
    "outputId": "7acbf68b-590f-4b9c-c924-083ab76c5d10"
   },
   "outputs": [
    {
     "data": {
      "text/plain": [
       "(10000, 784)"
      ]
     },
     "execution_count": 5,
     "metadata": {},
     "output_type": "execute_result"
    }
   ],
   "source": [
    "test_images.shape"
   ]
  },
  {
   "cell_type": "code",
   "execution_count": 6,
   "metadata": {
    "colab": {
     "base_uri": "https://localhost:8080/",
     "height": 34
    },
    "colab_type": "code",
    "executionInfo": {
     "elapsed": 487,
     "status": "ok",
     "timestamp": 1569415640170,
     "user": {
      "displayName": "Jaia Bozzigno",
      "photoUrl": "",
      "userId": "10377034041083083026"
     },
     "user_tz": -60
    },
    "id": "03sbSz7-6kcN",
    "outputId": "dfc56c44-8428-4eee-8dd3-f41536dd15ba"
   },
   "outputs": [
    {
     "data": {
      "text/plain": [
       "10000"
      ]
     },
     "execution_count": 6,
     "metadata": {},
     "output_type": "execute_result"
    }
   ],
   "source": [
    "len(test_labels)"
   ]
  },
  {
   "cell_type": "markdown",
   "metadata": {},
   "source": [
    "## Shallow Neural Network\n",
    "\n",
    "La cella seguente definisce un modello di network sequenziale 'shallow' che presenta un singolo layer intermedio tra il layer di input e quello di output.\n",
    "\n",
    "Ogni layer viene aggiunto usando la funzione `network.add()` e connesso al successivo attraverso un'architettura di rete \"fully connected\", specificata nel codice dalla funzione di definizione layer `layer.Dense()`. \n",
    "\n",
    "Nel nostro caso il layer intermedio e' definito da 812 nodi (parametro 1 della funzione `layer.Dense()`) che hanno funzione di attivazione non-lineare ReLU (parametro 2 della funzione `layer.Dense()`).\n",
    "\n",
    "Analogamente il layer di output e' definito da 10 nodi con funzione di attivazione non lineare \"softmax\" e restituisce un array normalizzato a 1 con i 10 valori di probabilita' associati alle 10 cifre 0-9.\n",
    "\n",
    "La funzione `network.compile()` definisce i parametri del training:\n",
    "* Funzione di costo (parametro `loss`): la `categorical_crossentropy` e' scelta come funzione da minimizzare.\n",
    "* Ottimizzatore (parametro `optimizer`): `rmsprop` e' l'algoritmo di gradient descent usato per trovare il minimo della cross-entropy.\n",
    "* Metrica (parametro `metrics`): l'accuratezza (frazione di immagini correttamente classificate) e' usata per quantificare la performance del modello.\n",
    "\n",
    "Infine con la funzione `network.fit()` il modello esegue il learning sui dati specificati (in questo caso `train_images` e `train_labels` per il training) attraverso 5 epoche in ciascuna delle quali la minimizzazione e' eseguita su sottoinsiemi random di 128 immagini (batches) in cui viene ripartito il dataset intero.\n",
    "\n",
    "Compila la cella seguente per eseguire il training del modello"
   ]
  },
  {
   "cell_type": "code",
   "execution_count": 7,
   "metadata": {
    "colab": {},
    "colab_type": "code",
    "id": "YQOts9_u6kcT"
   },
   "outputs": [
    {
     "name": "stdout",
     "output_type": "stream",
     "text": [
      "Epoch 1/5\n",
      "469/469 [==============================] - 3s 7ms/step - loss: 0.2478 - accuracy: 0.9280\n",
      "Epoch 2/5\n",
      "469/469 [==============================] - 3s 6ms/step - loss: 0.0965 - accuracy: 0.9714\n",
      "Epoch 3/5\n",
      "469/469 [==============================] - 3s 6ms/step - loss: 0.0625 - accuracy: 0.9811\n",
      "Epoch 4/5\n",
      "469/469 [==============================] - 3s 6ms/step - loss: 0.0444 - accuracy: 0.9864\n",
      "Epoch 5/5\n",
      "469/469 [==============================] - 3s 6ms/step - loss: 0.0315 - accuracy: 0.9901\n"
     ]
    },
    {
     "data": {
      "text/plain": [
       "<keras.callbacks.History at 0x1da003caeb0>"
      ]
     },
     "execution_count": 7,
     "metadata": {},
     "output_type": "execute_result"
    }
   ],
   "source": [
    "from keras import models\n",
    "from keras import layers\n",
    "\n",
    "network = models.Sequential()\n",
    "network.add(layers.Dense(812, activation = 'relu', input_shape=(28 * 28,)))\n",
    "network.add(layers.Dense(10, activation = 'softmax'))\n",
    "\n",
    "network.compile(optimizer = 'rmsprop',\n",
    "                loss = 'categorical_crossentropy',\n",
    "                metrics = ['accuracy'])\n",
    "\n",
    "network.fit(train_images, train_labels, epochs = 5, batch_size = 128)"
   ]
  },
  {
   "cell_type": "markdown",
   "metadata": {},
   "source": [
    "L'accuratezza del modello sui dati del training dopo l'apprendimento e' di circa 99%.\n",
    "\n",
    "Per vedere quanto bene il modello generalizza su dati che non sono stati usati durante la fase di learning usiamo la funzione `network.evaluate()` sui dati del test set.\n",
    "\n",
    "Compila la cella seguente; dovresti ottenere un accuracy di circa 98%  "
   ]
  },
  {
   "cell_type": "code",
   "execution_count": 8,
   "metadata": {
    "colab": {
     "base_uri": "https://localhost:8080/",
     "height": 34
    },
    "colab_type": "code",
    "executionInfo": {
     "elapsed": 918,
     "status": "ok",
     "timestamp": 1569417633211,
     "user": {
      "displayName": "Jaia Bozzigno",
      "photoUrl": "",
      "userId": "10377034041083083026"
     },
     "user_tz": -60
    },
    "id": "VVTZt7Cf6kcg",
    "outputId": "9b9036ed-6e6e-4abb-a2e8-227b8ba33a04"
   },
   "outputs": [
    {
     "name": "stdout",
     "output_type": "stream",
     "text": [
      "313/313 [==============================] - 1s 2ms/step - loss: 0.0671 - accuracy: 0.9787\n",
      "test_acc: 0.9786999821662903\n"
     ]
    }
   ],
   "source": [
    "test_loss, test_acc = network.evaluate(test_images, test_labels)\n",
    "print('test_acc:', test_acc)\n",
    "del(network)"
   ]
  },
  {
   "cell_type": "markdown",
   "metadata": {},
   "source": [
    "## ESERCIZIO : Deep Neural Network\n",
    "\n",
    "Basandoti sulla cella che definisce il network 'shallow' completa le linee di codice commentate nella cella seguente per costruire e testare un modello di Deep Neural Network con\n",
    "\n",
    "* 3 layer intermedi con 652 neuroni ciascuno a funzione di attivazione non-lineare sigmoide ('sigmoid')\n",
    "\n",
    "Ricorda che solo il primo layer intermedio va connesso all'input !"
   ]
  },
  {
   "cell_type": "code",
   "execution_count": 9,
   "metadata": {},
   "outputs": [
    {
     "name": "stdout",
     "output_type": "stream",
     "text": [
      "Epoch 1/5\n",
      "469/469 [==============================] - 6s 13ms/step - loss: 0.8644 - accuracy: 0.7009\n",
      "Epoch 2/5\n",
      "469/469 [==============================] - 6s 13ms/step - loss: 0.2994 - accuracy: 0.9087\n",
      "Epoch 3/5\n",
      "469/469 [==============================] - 6s 13ms/step - loss: 0.2164 - accuracy: 0.9337\n",
      "Epoch 4/5\n",
      "469/469 [==============================] - 6s 13ms/step - loss: 0.1681 - accuracy: 0.9484\n",
      "Epoch 5/5\n",
      "469/469 [==============================] - 6s 13ms/step - loss: 0.1366 - accuracy: 0.9584\n",
      "313/313 [==============================] - 1s 3ms/step - loss: 0.1223 - accuracy: 0.9633\n",
      "test_acc: 0.9632999897003174\n"
     ]
    }
   ],
   "source": [
    "\n",
    "network = models.Sequential()\n",
    "network.add(layers.Dense(652, activation = 'sigmoid', input_shape=(28 * 28,)))\n",
    "network.add(layers.Dense(652, activation = 'sigmoid'))\n",
    "network.add(layers.Dense(652, activation = 'sigmoid'))\n",
    "network.add(layers.Dense(10, activation='softmax'))\n",
    "\n",
    "network.compile(optimizer='rmsprop',\n",
    "                loss='categorical_crossentropy',\n",
    "                metrics=['accuracy'])\n",
    "\n",
    "network.fit(train_images, train_labels, epochs=5, batch_size=128)\n",
    "\n",
    "test_loss, test_acc = network.evaluate(test_images, test_labels)\n",
    "\n",
    "print('test_acc:', test_acc)"
   ]
  },
  {
   "cell_type": "markdown",
   "metadata": {},
   "source": [
    "Si riesce a migliorare l'accuratezza utilizzando un Deep Neural Network con \n",
    "* 6 layer intermedi con 326 neuroni ciascuno a funzione di attivazione sigmoide ?\n",
    "\n",
    "Completa la cella sotto per rispondere..."
   ]
  },
  {
   "cell_type": "code",
   "execution_count": 13,
   "metadata": {},
   "outputs": [
    {
     "name": "stdout",
     "output_type": "stream",
     "text": [
      "Epoch 1/5\n",
      "469/469 [==============================] - 4s 7ms/step - loss: 2.3209 - accuracy: 0.1014\n",
      "Epoch 2/5\n",
      "469/469 [==============================] - 4s 7ms/step - loss: 2.3127 - accuracy: 0.1046\n",
      "Epoch 3/5\n",
      "469/469 [==============================] - 3s 7ms/step - loss: 2.3130 - accuracy: 0.1034\n",
      "Epoch 4/5\n",
      "469/469 [==============================] - 3s 7ms/step - loss: 2.3124 - accuracy: 0.1047\n",
      "Epoch 5/5\n",
      "469/469 [==============================] - 3s 7ms/step - loss: 2.3045 - accuracy: 0.1057\n",
      "313/313 [==============================] - 1s 2ms/step - loss: 2.3018 - accuracy: 0.1028\n",
      "test_acc: 0.10279999673366547\n"
     ]
    }
   ],
   "source": [
    "del(network)\n",
    "\n",
    "network = models.Sequential()\n",
    "network.add(layers.Dense(326, activation = 'sigmoid', input_shape=(28 * 28,)))\n",
    "network.add(layers.Dense(326, activation = 'sigmoid'))\n",
    "network.add(layers.Dense(326, activation = 'sigmoid'))\n",
    "network.add(layers.Dense(326, activation = 'sigmoid'))\n",
    "network.add(layers.Dense(326, activation = 'sigmoid'))\n",
    "network.add(layers.Dense(326, activation = 'sigmoid'))\n",
    "network.add(layers.Dense(10, activation='softmax'))\n",
    "\n",
    "network.compile(optimizer='rmsprop',\n",
    "                loss='categorical_crossentropy',\n",
    "                metrics=['accuracy'])\n",
    "\n",
    "network.fit(train_images, train_labels, epochs=5, batch_size=128)\n",
    "\n",
    "test_loss, test_acc = network.evaluate(test_images, test_labels)\n",
    "\n",
    "print('test_acc:', test_acc)"
   ]
  },
  {
   "cell_type": "markdown",
   "metadata": {},
   "source": []
  }
 ],
 "metadata": {
  "colab": {
   "name": "Copy of mco-2.1-a-first-look-at-a-neural-network.ipynb",
   "provenance": [
    {
     "file_id": "https://github.com/marcacohen/DL-Workshop/blob/master/mco_2_1_a_first_look_at_a_neural_network.ipynb",
     "timestamp": 1569415334035
    }
   ]
  },
  "kernelspec": {
   "display_name": "Python 3",
   "language": "python",
   "name": "python3"
  },
  "language_info": {
   "codemirror_mode": {
    "name": "ipython",
    "version": 3
   },
   "file_extension": ".py",
   "mimetype": "text/x-python",
   "name": "python",
   "nbconvert_exporter": "python",
   "pygments_lexer": "ipython3",
   "version": "3.11.7"
  }
 },
 "nbformat": 4,
 "nbformat_minor": 1
}
